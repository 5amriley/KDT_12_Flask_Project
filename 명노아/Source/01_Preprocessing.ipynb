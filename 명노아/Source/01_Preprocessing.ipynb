{
 "cells": [
  {
   "cell_type": "code",
   "execution_count": 2,
   "metadata": {},
   "outputs": [],
   "source": [
    "import pandas as pd\n",
    "import re\n",
    "\n",
    "df = pd.read_csv('../Data/Comment.csv')"
   ]
  },
  {
   "cell_type": "code",
   "execution_count": 3,
   "metadata": {},
   "outputs": [
    {
     "data": {
      "text/plain": [
       "comment\n",
       "                                                            3781\n",
       "와                                                            634\n",
       "오                                                            355\n",
       "ㅋㅋ                                                           182\n",
       "ㅋㅋㅋ                                                          178\n",
       "안녕하세요                                                        168\n",
       "뜰하                                                           154\n",
       "빠                                                            144\n",
       "우왕                                                           144\n",
       "사랑해요                                                         129\n",
       "우와                                                           124\n",
       "시간전                                                          115\n",
       "헐                                                            114\n",
       "ㅋㅋㅋㅋ                                                         114\n",
       "ㅋㅋㅋㅋㅋ                                                        103\n",
       "감사합니다                                                         98\n",
       "왕                                                             93\n",
       "와우                                                            93\n",
       "스포방지선                                                         87\n",
       "ㅠㅠ                                                            83\n",
       "ㅋㅋㅋㅋㅋㅋ                                                        79\n",
       "꿀잼                                                            79\n",
       "헉                                                             78\n",
       "잠뜰님오늘도너무너무재미있었어요그리고잠뜰님항상영상을만들어주셔서감사합니다잠뜰님힘내세요그리고잠뜰님최고입니다      75\n",
       "재밌어요                                                          73\n",
       "재밌다                                                           72\n",
       "오늘도꿀잼영상재미있게잘보고갑니다ㅎㅎㅎ                                          69\n",
       "분전                                                            57\n",
       "좋아요안받기일차                                                      56\n",
       "재밌겠다                                                          52\n",
       "오늘도재밌는영상감사합니다                                                 52\n",
       "드디어                                                           51\n",
       "ㅋㅋㅋㅋㅋㅋㅋ                                                       51\n",
       "오늘도재미있는영상감사합니다ㅎㅎ좋은하루보내세요ㅎㅎ                                    49\n",
       "ㅎㅎ                                                            48\n",
       "대박                                                            46\n",
       "재밌게보고가요                                                       45\n",
       "오늘도재밌게보겠습니다                                                   45\n",
       "오늘도재미있는영상감사합니다                                                44\n",
       "넹                                                             43\n",
       "마인크래프트                                                        43\n",
       "네                                                             43\n",
       "ㅇㅈ                                                            42\n",
       "ㅋ                                                             42\n",
       "와욱                                                            41\n",
       "분                                                             40\n",
       "미궁                                                            40\n",
       "ㅇ                                                             37\n",
       "새해복많이받으세요                                                     36\n",
       "오오                                                            36\n",
       "Name: count, dtype: int64"
      ]
     },
     "execution_count": 3,
     "metadata": {},
     "output_type": "execute_result"
    }
   ],
   "source": [
    "def extract_korean(text):\n",
    "    return re.sub('[^ㄱ-ㅎㅏ-ㅣ가-힣]', '', text)\n",
    "\n",
    "\n",
    "df['comment'] = df['comment'].apply(extract_korean)\n",
    "df.comment.value_counts().head(50)\n",
    "\n"
   ]
  },
  {
   "cell_type": "code",
   "execution_count": 17,
   "metadata": {},
   "outputs": [],
   "source": [
    "df.to_csv(\"../Data/test.csv\")"
   ]
  }
 ],
 "metadata": {
  "kernelspec": {
   "display_name": "TEXT_017_220_38",
   "language": "python",
   "name": "python3"
  },
  "language_info": {
   "codemirror_mode": {
    "name": "ipython",
    "version": 3
   },
   "file_extension": ".py",
   "mimetype": "text/x-python",
   "name": "python",
   "nbconvert_exporter": "python",
   "pygments_lexer": "ipython3",
   "version": "3.8.19"
  }
 },
 "nbformat": 4,
 "nbformat_minor": 2
}
