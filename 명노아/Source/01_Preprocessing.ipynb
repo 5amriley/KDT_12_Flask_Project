{
 "cells": [
  {
   "cell_type": "code",
   "execution_count": 15,
   "metadata": {},
   "outputs": [],
   "source": [
    "import pandas as pd\n",
    "import re\n",
    "\n",
    "df = pd.read_csv('Comment.csv')"
   ]
  },
  {
   "cell_type": "code",
   "execution_count": 19,
   "metadata": {},
   "outputs": [
    {
     "data": {
      "text/plain": [
       "comment\n",
       "                                              3781\n",
       "와                                              634\n",
       "오                                              355\n",
       "ㅋㅋ                                             182\n",
       "ㅋㅋㅋ                                            178\n",
       "                                              ... \n",
       "ㅇ아앗세계관혼동이                                        1\n",
       "저번박쥐로살아남기의후속편인가요ㅋㅋㅋ마지막에은방울꽃보자말자이웃집좀비가생각났어요       1\n",
       "아너무귀여워요ㅠㅠ저번엔주민이였는데이번엔나비삼남매ㅐ카와이ㅣ                  1\n",
       "마지막에덕개님뭔뎈ㅋㅋ흑화하셨댘ㅋㅋㅋㅋㅋㅋㅋㅋ귀여우셬큐ㅠㅠㅠ                 1\n",
       "와대박이게바로이세카이                                      1\n",
       "Name: count, Length: 60123, dtype: int64"
      ]
     },
     "execution_count": 19,
     "metadata": {},
     "output_type": "execute_result"
    }
   ],
   "source": [
    "def extract_korean(text):\n",
    "    return re.sub('[^ㄱ-ㅎㅏ-ㅣ가-힣]', '', text)\n",
    "\n",
    "\n",
    "df['comment'] = df['comment'].apply(extract_korean)\n",
    "df.comment.value_counts()\n"
   ]
  },
  {
   "cell_type": "code",
   "execution_count": 17,
   "metadata": {},
   "outputs": [],
   "source": [
    "df.to_csv(\"../Data/test.csv\")"
   ]
  }
 ],
 "metadata": {
  "kernelspec": {
   "display_name": "TEXT_017_220_38",
   "language": "python",
   "name": "python3"
  },
  "language_info": {
   "codemirror_mode": {
    "name": "ipython",
    "version": 3
   },
   "file_extension": ".py",
   "mimetype": "text/x-python",
   "name": "python",
   "nbconvert_exporter": "python",
   "pygments_lexer": "ipython3",
   "version": "3.8.19"
  }
 },
 "nbformat": 4,
 "nbformat_minor": 2
}
