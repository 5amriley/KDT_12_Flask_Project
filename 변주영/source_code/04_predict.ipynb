{
 "cells": [
  {
   "cell_type": "markdown",
   "metadata": {},
   "source": [
    "### 아마존 리뷰 데이터를 사용한 텍스트 요약 모델 만들기\n",
    "- predict 구현한 코드"
   ]
  },
  {
   "cell_type": "code",
   "execution_count": 1,
   "metadata": {},
   "outputs": [],
   "source": [
    "import torch\n",
    "from transformers import BartTokenizer\n",
    "from torch.utils.data import TensorDataset, DataLoader\n",
    "from torch.utils.data import RandomSampler, SequentialSampler\n",
    "from torch.nn.utils.rnn import pad_sequence"
   ]
  },
  {
   "cell_type": "code",
   "execution_count": 2,
   "metadata": {},
   "outputs": [],
   "source": [
    "from torch import optim\n",
    "from transformers import BartForConditionalGeneration"
   ]
  },
  {
   "cell_type": "code",
   "execution_count": 97,
   "metadata": {},
   "outputs": [
    {
     "data": {
      "text/plain": [
       "<All keys matched successfully>"
      ]
     },
     "execution_count": 97,
     "metadata": {},
     "output_type": "execute_result"
    }
   ],
   "source": [
    "device = \"cuda\" if torch.cuda.is_available() else \"cpu\"\n",
    "\n",
    "### 저장된 모델 불러오기(모델 객체 생성 -> 상태 사전 불러오기)\n",
    "### first 에 속한 모델들은 자연어 전처리가 안 된 문장을 학습하였고,\n",
    "### second 에 속한 모델들은 자연어 전처리가 된 문장을 학습하였다.\n",
    "model = BartForConditionalGeneration.from_pretrained(\n",
    "    pretrained_model_name_or_path=\"facebook/bart-base\"\n",
    ").to(device)\n",
    "state_dict = torch.load('../models/second/Latest_Bart_Amazon_Books.pt',\n",
    "                            map_location=torch.device(device))  # collections.OrderedDict\n",
    "model.load_state_dict(state_dict)"
   ]
  },
  {
   "cell_type": "code",
   "execution_count": 98,
   "metadata": {},
   "outputs": [
    {
     "data": {
      "text/plain": [
       "transformers.models.bart.modeling_bart.BartForConditionalGeneration"
      ]
     },
     "execution_count": 98,
     "metadata": {},
     "output_type": "execute_result"
    }
   ],
   "source": [
    "type(model)"
   ]
  },
  {
   "cell_type": "code",
   "execution_count": 99,
   "metadata": {},
   "outputs": [],
   "source": [
    "from transformers import pipeline\n",
    "\n",
    "### 평가 모드 ON\n",
    "model.eval()\n",
    "\n",
    "### 토크나이저 생성\n",
    "tokenizer = BartTokenizer.from_pretrained(\n",
    "    pretrained_model_name_or_path=\"facebook/bart-base\"\n",
    ")\n",
    "\n",
    "### 파이프라인 생성\n",
    "summarizer = pipeline(\n",
    "    task=\"summarization\",\n",
    "    model=model,    # 모델 설정\n",
    "    tokenizer=tokenizer,\n",
    "    max_length=50,  # 입력 텍스트가 짧을 경우, 더 줄여도 된다. (예: 24)\n",
    "    device=\"cpu\"\n",
    ")"
   ]
  },
  {
   "cell_type": "code",
   "execution_count": 58,
   "metadata": {},
   "outputs": [],
   "source": [
    "import re\n",
    "import contractions\n",
    "\n",
    "def str_preprocessing(x: str):\n",
    "    ### str이 아니면 그냥 반환\n",
    "    if not isinstance(x, str): \n",
    "        return x\n",
    "    \n",
    "    ### 소문자로 변환\n",
    "    x = x.lower()\n",
    "\n",
    "    ### 소괄호로 둘러싸인 문자열 삭제\n",
    "    pattern1 = r'\\([^)]*\\)'\n",
    "    x = re.sub(pattern1, '', x)\n",
    "\n",
    "    ### 대괄호로 둘러싸인 문자열 삭제\n",
    "    pattern2 = r'\\[[^\\]]*\\]'\n",
    "    x = re.sub(pattern2, '', x)\n",
    "\n",
    "    ### 축약어, 슬랭 처리\n",
    "    x = contractions.fix(x)\n",
    "\n",
    "    return x"
   ]
  },
  {
   "cell_type": "code",
   "execution_count": 24,
   "metadata": {},
   "outputs": [],
   "source": [
    "def predict(input_sentence: str, preprocessing=False):\n",
    "    if preprocessing:   # second 모델일 경우 사용\n",
    "        input_sentence = str_preprocessing(input_sentence)\n",
    "    summarizer_result = summarizer(input_sentence)\n",
    "    predicted_summarization = summarizer_result[0][\"summary_text\"]\n",
    "    return predicted_summarization"
   ]
  },
  {
   "cell_type": "code",
   "execution_count": 102,
   "metadata": {},
   "outputs": [
    {
     "data": {
      "text/plain": [
       "'it is not that bad - it is just pretty boring'"
      ]
     },
     "execution_count": 102,
     "metadata": {},
     "output_type": "execute_result"
    }
   ],
   "source": [
    "predict(input(\"요약할 내용을 입력하세요 : \"))"
   ]
  },
  {
   "cell_type": "code",
   "execution_count": 25,
   "metadata": {},
   "outputs": [],
   "source": [
    "predict_input = \"I'm very amazed by this phone I had the Galaxy. S20, This phone was a huge advancement over my old phone. I read some of the reviews and was a little bit worried but it is the absolute best phone i've ever had. I really like the styling. I have it in a case which covers it up nicely, and it wasn't extremely expensive, the phone was quite expensive, but oh well. Figure I might not live forever so why not enjoy life a little and have the toys I want.\""
   ]
  },
  {
   "cell_type": "code",
   "execution_count": 26,
   "metadata": {},
   "outputs": [
    {
     "data": {
      "text/plain": [
       "[{'summary_text': \"THE best phone I've ever had! : D\"}]"
      ]
     },
     "execution_count": 26,
     "metadata": {},
     "output_type": "execute_result"
    }
   ],
   "source": [
    "summarizer(predict_input)"
   ]
  },
  {
   "cell_type": "code",
   "execution_count": 11,
   "metadata": {},
   "outputs": [],
   "source": [
    "predict(predict_input)"
   ]
  },
  {
   "cell_type": "code",
   "execution_count": 75,
   "metadata": {},
   "outputs": [
    {
     "data": {
      "text/plain": [
       "\"Not the best book I've ever listened to.\""
      ]
     },
     "execution_count": 75,
     "metadata": {},
     "output_type": "execute_result"
    }
   ],
   "source": [
    "predict(input(\"요약할 내용을 입력하세요 : \"))"
   ]
  },
  {
   "cell_type": "code",
   "execution_count": null,
   "metadata": {},
   "outputs": [],
   "source": []
  }
 ],
 "metadata": {
  "kernelspec": {
   "display_name": "Text_017_220_38",
   "language": "python",
   "name": "python3"
  },
  "language_info": {
   "codemirror_mode": {
    "name": "ipython",
    "version": 3
   },
   "file_extension": ".py",
   "mimetype": "text/x-python",
   "name": "python",
   "nbconvert_exporter": "python",
   "pygments_lexer": "ipython3",
   "version": "3.8.19"
  }
 },
 "nbformat": 4,
 "nbformat_minor": 2
}
