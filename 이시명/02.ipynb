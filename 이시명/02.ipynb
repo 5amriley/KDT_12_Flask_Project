{
 "cells": [
  {
   "cell_type": "code",
   "execution_count": null,
   "id": "initial_id",
   "metadata": {
    "collapsed": true,
    "ExecuteTime": {
     "end_time": "2024-04-21T07:22:04.244973Z",
     "start_time": "2024-04-21T07:22:04.240352Z"
    }
   },
   "outputs": [],
   "source": []
  },
  {
   "cell_type": "code",
   "outputs": [],
   "source": [
    "import pandas as pd\n",
    "import numpy as np\n",
    "from sklearn.model_selection import train_test_split\n",
    "from transformers import GPT2Tokenizer, GPT2LMHeadModel, AdamW, get_linear_schedule_with_warmup\n",
    "import torch\n",
    "from torch.utils.data import Dataset, DataLoader\n",
    "import torch.nn.functional as F\n",
    "\n",
    "# 데이터 로드\n",
    "data = pd.read_csv('data.csv')\n",
    "src_texts = data.iloc[:100, 0].tolist()  # 한국어 텍스트\n",
    "tgt_texts = data.iloc[:100, 1].tolist()  # 영어 텍스트\n",
    "\n",
    "# 토크나이저 초기화\n",
    "tokenizer = GPT2Tokenizer.from_pretrained('gpt2')\n",
    "\n",
    "# 토크나이저에 패딩 토큰 설정\n",
    "tokenizer.pad_token = tokenizer.eos_token\n",
    "\n"
   ],
   "metadata": {
    "collapsed": false,
    "ExecuteTime": {
     "end_time": "2024-04-21T07:22:07.424172Z",
     "start_time": "2024-04-21T07:22:04.247187Z"
    }
   },
   "id": "25cf3fd7ab504f87",
   "execution_count": 1
  },
  {
   "cell_type": "code",
   "outputs": [],
   "source": [
    "class TranslationDataset(Dataset):\n",
    "    def __init__(self, tokenizer, src_texts, tgt_texts, max_length=256):  # max_length를 256으로 설정\n",
    "        self.tokenizer = tokenizer\n",
    "        self.inputs = []\n",
    "        self.attn_masks = []\n",
    "\n",
    "        for src, tgt in zip(src_texts, tgt_texts):\n",
    "            # `pad_to_max_length=True` 대신 `padding='max_length'` 사용\n",
    "            tokenized_text = tokenizer.encode_plus(src + ' <SEP> ' + tgt, max_length=max_length, padding='max_length', truncation=True, return_tensors=\"pt\")\n",
    "            self.inputs.append(tokenized_text['input_ids'])\n",
    "            self.attn_masks.append(tokenized_text['attention_mask'])\n",
    "\n",
    "    def __len__(self):\n",
    "        return len(self.inputs)\n",
    "\n",
    "    def __getitem__(self, idx):\n",
    "        return self.inputs[idx].squeeze(0), self.attn_masks[idx].squeeze(0)\n"
   ],
   "metadata": {
    "collapsed": false,
    "ExecuteTime": {
     "end_time": "2024-04-21T07:22:07.430292Z",
     "start_time": "2024-04-21T07:22:07.427527Z"
    }
   },
   "id": "10cb555990e9bad",
   "execution_count": 2
  },
  {
   "cell_type": "code",
   "outputs": [],
   "source": [
    "\n",
    "\n",
    "# 데이터셋 객체 생성\n",
    "dataset = TranslationDataset(tokenizer, src_texts, tgt_texts)\n",
    "# 데이터 로더 생성, batch_size를 32로 설정\n",
    "data_loader = DataLoader(dataset, batch_size=32, shuffle=True)\n"
   ],
   "metadata": {
    "collapsed": false,
    "ExecuteTime": {
     "end_time": "2024-04-21T07:22:07.470044Z",
     "start_time": "2024-04-21T07:22:07.430711Z"
    }
   },
   "id": "bee4228ce14ef5b2",
   "execution_count": 3
  },
  {
   "cell_type": "code",
   "outputs": [],
   "source": [
    "# 모델 로드\n",
    "model = GPT2LMHeadModel.from_pretrained('gpt2')\n",
    "model = model.to('mps')\n",
    "\n",
    "# 옵티마이저 설정\n",
    "optimizer = AdamW(model.parameters(), lr=5e-5)\n",
    "\n",
    "# 학습\n",
    "model.train()\n",
    "for epoch in range(4):  # 에포크 수는 필요에 따라 조정 가능\n",
    "    for inputs, masks in data_loader:\n",
    "        inputs = inputs.to('mps')\n",
    "        masks = masks.to('mps')\n",
    "        \n",
    "        outputs = model(inputs, attention_mask=masks, labels=inputs)\n",
    "        loss = outputs[0]\n",
    "        \n",
    "        optimizer.zero_grad()\n",
    "        loss.backward()\n",
    "        optimizer.step()\n",
    "        \n",
    "        print(f\"Epoch {epoch+1} Loss {loss.item()}\")\n"
   ],
   "metadata": {
    "collapsed": false,
    "is_executing": true,
    "ExecuteTime": {
     "start_time": "2024-04-21T07:22:07.472058Z"
    }
   },
   "id": "f93e95a7fa10c042"
  },
  {
   "cell_type": "code",
   "outputs": [],
   "source": [
    "model.eval()\n",
    "test_sentence = \"이 문장을 영어로 번역해주세요.\"\n",
    "encoded_input = tokenizer.encode(test_sentence, return_tensors='pt').to('mps')\n",
    "output_sequences = model.generate(input_ids=encoded_input, max_length=50)\n",
    "\n",
    "decoded_translation = tokenizer.decode(output_sequences[0], skip_special_tokens=True)\n",
    "print(decoded_translation)\n"
   ],
   "metadata": {
    "collapsed": false,
    "is_executing": true
   },
   "id": "7bc10832b54b6bd8",
   "execution_count": null
  },
  {
   "cell_type": "code",
   "outputs": [],
   "source": [
    "from ..model import BERTLM, BERT\n",
    "\n",
    "\n",
    "class BERTTrainer :\n",
    "    \n",
    "    def __init__(self, bert : BERT, vocab_size : int, train_dataloader : DataLoader, test_dataloader : DataLoader = None,\n",
    "                 lr : float = 1e-4, betas = (0.9, 0.999), weight_decay : float = 0.01, warmup_steps = 10000,\n",
    "                 with_cuda : bool = True, cuda_devices = None, log_freq : int = 10) :"
   ],
   "metadata": {
    "collapsed": false,
    "is_executing": true
   },
   "id": "9512aa38fb50fda2"
  }
 ],
 "metadata": {
  "kernelspec": {
   "display_name": "Python 3",
   "language": "python",
   "name": "python3"
  },
  "language_info": {
   "codemirror_mode": {
    "name": "ipython",
    "version": 2
   },
   "file_extension": ".py",
   "mimetype": "text/x-python",
   "name": "python",
   "nbconvert_exporter": "python",
   "pygments_lexer": "ipython2",
   "version": "2.7.6"
  }
 },
 "nbformat": 4,
 "nbformat_minor": 5
}
