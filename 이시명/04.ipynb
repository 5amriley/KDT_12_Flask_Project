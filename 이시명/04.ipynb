{
 "cells": [
  {
   "cell_type": "code",
   "execution_count": 5,
   "id": "initial_id",
   "metadata": {
    "collapsed": true,
    "ExecuteTime": {
     "end_time": "2024-04-21T09:02:16.985155Z",
     "start_time": "2024-04-21T09:02:16.979999Z"
    }
   },
   "outputs": [],
   "source": [
    "from faster_translate import TranslateModel\n",
    "from datasets import load_dataset\n",
    "\n",
    "\n",
    "# Load the Korean-English translation model\n",
    "model = TranslateModel.from_pretrained(\"Helsinki-NLP/opus-mt-ko-en\")\n",
    "\n",
    "# Translate a single sentence from Korean to English\n",
    "translated_text = model.translate_single(\"이것은 테스트입니다.\")\n",
    "print(translated_text)\n",
    "\n",
    "# Example of translating a dataset using the new model\n",
    "model.translate_hf_dataset(\n",
    "    \"your-dataset-identifier\",\n",
    "    split=\"*\", \n",
    "    columns=[\"column_to_translate\"], \n",
    "    batch_size=8, \n",
    "    start_idx=2,\n",
    "    end_idx=5\n",
    ")\n",
    "\n",
    "# If you also want to perform English to Korean translation,\n",
    "# load the reverse model if available, e.g., \"Helsinki-NLP/opus-mt-en-ko\"\n",
    "model_en_ko = TranslateModel.from_pretrained(\"Helsinki-NLP/opus-mt-en-ko\")\n",
    "translated_text_ko = model_en_ko.translate_single(\"This is a test\")\n",
    "print(translated_text_ko)\n"
   ]
  },
  {
   "cell_type": "code",
   "outputs": [],
   "source": [],
   "metadata": {
    "collapsed": false,
    "ExecuteTime": {
     "end_time": "2024-04-21T09:02:17.181164Z",
     "start_time": "2024-04-21T09:02:17.177373Z"
    }
   },
   "id": "3b55dd003ed29fec",
   "execution_count": 5
  },
  {
   "cell_type": "code",
   "outputs": [],
   "source": [
    "from faster_translate import TranslateModel\n",
    "from datasets import load_dataset\n",
    "\n",
    "# Load the Korean-English translation model\n",
    "model = TranslateModel.from_pretrained(\"Helsinki-NLP/opus-mt-ko-en\")\n",
    "\n",
    "# Translate a single sentence from Korean to English\n",
    "translated_text = model.translate_single(\"이것은 테스트입니다.\")\n",
    "print(translated_text)\n",
    "\n",
    "# Example using a dataset (make sure the dataset identifier and columns are correctly specified)\n",
    "dataset = load_dataset(\"your-dataset-identifier\")\n",
    "# You can specify the actual dataset and columns based on your requirements\n"
   ],
   "metadata": {
    "collapsed": false,
    "ExecuteTime": {
     "end_time": "2024-04-21T09:02:17.389248Z",
     "start_time": "2024-04-21T09:02:17.387053Z"
    }
   },
   "id": "9422e6440695799f",
   "execution_count": 5
  },
  {
   "cell_type": "code",
   "outputs": [
    {
     "name": "stdout",
     "output_type": "stream",
     "text": [
      "Original: 나는 친구에게 그 철학가의 책을 선물해주겠다고 말했다. - Translated: I don't know how long it will take you to finish the project.\n"
     ]
    }
   ],
   "source": [
    "print(\"Original: 나는 친구에게 그 철학가의 책을 선물해주겠다고 말했다. - Translated: I don't know how long it will take you to finish the project.\")"
   ],
   "metadata": {
    "collapsed": false,
    "ExecuteTime": {
     "end_time": "2024-04-21T11:34:02.775603Z",
     "start_time": "2024-04-21T11:34:02.771817Z"
    }
   },
   "id": "f06f8223a2dbdc20",
   "execution_count": 7
  },
  {
   "cell_type": "code",
   "outputs": [],
   "source": [],
   "metadata": {
    "collapsed": false
   },
   "id": "38be4ee0ee7511b4"
  }
 ],
 "metadata": {
  "kernelspec": {
   "display_name": "Python 3",
   "language": "python",
   "name": "python3"
  },
  "language_info": {
   "codemirror_mode": {
    "name": "ipython",
    "version": 2
   },
   "file_extension": ".py",
   "mimetype": "text/x-python",
   "name": "python",
   "nbconvert_exporter": "python",
   "pygments_lexer": "ipython2",
   "version": "2.7.6"
  }
 },
 "nbformat": 4,
 "nbformat_minor": 5
}
